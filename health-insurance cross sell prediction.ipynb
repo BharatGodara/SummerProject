{
 "cells": [
  {
   "cell_type": "markdown",
   "id": "8806955b",
   "metadata": {},
   "source": [
    "# HEALTH INSURANCE CROSS SELL PREDICTION"
   ]
  },
  {
   "cell_type": "markdown",
   "id": "38280daf",
   "metadata": {},
   "source": [
    "# data wrangling"
   ]
  },
  {
   "cell_type": "code",
   "execution_count": 1,
   "id": "91213e5c",
   "metadata": {},
   "outputs": [
    {
     "data": {
      "text/html": [
       "<div>\n",
       "<style scoped>\n",
       "    .dataframe tbody tr th:only-of-type {\n",
       "        vertical-align: middle;\n",
       "    }\n",
       "\n",
       "    .dataframe tbody tr th {\n",
       "        vertical-align: top;\n",
       "    }\n",
       "\n",
       "    .dataframe thead th {\n",
       "        text-align: right;\n",
       "    }\n",
       "</style>\n",
       "<table border=\"1\" class=\"dataframe\">\n",
       "  <thead>\n",
       "    <tr style=\"text-align: right;\">\n",
       "      <th></th>\n",
       "      <th>id</th>\n",
       "      <th>Gender</th>\n",
       "      <th>Age</th>\n",
       "      <th>Driving_License</th>\n",
       "      <th>Region_Code</th>\n",
       "      <th>Previously_Insured</th>\n",
       "      <th>Vehicle_Age</th>\n",
       "      <th>Vehicle_Damage</th>\n",
       "      <th>Annual_Premium</th>\n",
       "      <th>Policy_Sales_Channel</th>\n",
       "      <th>Vintage</th>\n",
       "      <th>Response</th>\n",
       "    </tr>\n",
       "  </thead>\n",
       "  <tbody>\n",
       "    <tr>\n",
       "      <th>0</th>\n",
       "      <td>1</td>\n",
       "      <td>Male</td>\n",
       "      <td>44</td>\n",
       "      <td>1</td>\n",
       "      <td>28.0</td>\n",
       "      <td>0</td>\n",
       "      <td>&gt; 2 Years</td>\n",
       "      <td>Yes</td>\n",
       "      <td>40454.0</td>\n",
       "      <td>26.0</td>\n",
       "      <td>217</td>\n",
       "      <td>1</td>\n",
       "    </tr>\n",
       "    <tr>\n",
       "      <th>1</th>\n",
       "      <td>2</td>\n",
       "      <td>Male</td>\n",
       "      <td>76</td>\n",
       "      <td>1</td>\n",
       "      <td>3.0</td>\n",
       "      <td>0</td>\n",
       "      <td>1-2 Year</td>\n",
       "      <td>No</td>\n",
       "      <td>33536.0</td>\n",
       "      <td>26.0</td>\n",
       "      <td>183</td>\n",
       "      <td>0</td>\n",
       "    </tr>\n",
       "    <tr>\n",
       "      <th>2</th>\n",
       "      <td>3</td>\n",
       "      <td>Male</td>\n",
       "      <td>47</td>\n",
       "      <td>1</td>\n",
       "      <td>28.0</td>\n",
       "      <td>0</td>\n",
       "      <td>&gt; 2 Years</td>\n",
       "      <td>Yes</td>\n",
       "      <td>38294.0</td>\n",
       "      <td>26.0</td>\n",
       "      <td>27</td>\n",
       "      <td>1</td>\n",
       "    </tr>\n",
       "    <tr>\n",
       "      <th>3</th>\n",
       "      <td>4</td>\n",
       "      <td>Male</td>\n",
       "      <td>21</td>\n",
       "      <td>1</td>\n",
       "      <td>11.0</td>\n",
       "      <td>1</td>\n",
       "      <td>&lt; 1 Year</td>\n",
       "      <td>No</td>\n",
       "      <td>28619.0</td>\n",
       "      <td>152.0</td>\n",
       "      <td>203</td>\n",
       "      <td>0</td>\n",
       "    </tr>\n",
       "    <tr>\n",
       "      <th>4</th>\n",
       "      <td>5</td>\n",
       "      <td>Female</td>\n",
       "      <td>29</td>\n",
       "      <td>1</td>\n",
       "      <td>41.0</td>\n",
       "      <td>1</td>\n",
       "      <td>&lt; 1 Year</td>\n",
       "      <td>No</td>\n",
       "      <td>27496.0</td>\n",
       "      <td>152.0</td>\n",
       "      <td>39</td>\n",
       "      <td>0</td>\n",
       "    </tr>\n",
       "  </tbody>\n",
       "</table>\n",
       "</div>"
      ],
      "text/plain": [
       "   id  Gender  Age  Driving_License  Region_Code  Previously_Insured  \\\n",
       "0   1    Male   44                1         28.0                   0   \n",
       "1   2    Male   76                1          3.0                   0   \n",
       "2   3    Male   47                1         28.0                   0   \n",
       "3   4    Male   21                1         11.0                   1   \n",
       "4   5  Female   29                1         41.0                   1   \n",
       "\n",
       "  Vehicle_Age Vehicle_Damage  Annual_Premium  Policy_Sales_Channel  Vintage  \\\n",
       "0   > 2 Years            Yes         40454.0                  26.0      217   \n",
       "1    1-2 Year             No         33536.0                  26.0      183   \n",
       "2   > 2 Years            Yes         38294.0                  26.0       27   \n",
       "3    < 1 Year             No         28619.0                 152.0      203   \n",
       "4    < 1 Year             No         27496.0                 152.0       39   \n",
       "\n",
       "   Response  \n",
       "0         1  \n",
       "1         0  \n",
       "2         1  \n",
       "3         0  \n",
       "4         0  "
      ]
     },
     "execution_count": 1,
     "metadata": {},
     "output_type": "execute_result"
    }
   ],
   "source": [
    "#read the data\n",
    "import pandas as pd\n",
    "import seaborn as sns\n",
    "import numpy as np\n",
    "\n",
    "filepath='health-insurance.csv'\n",
    "data=pd.read_csv(filepath)\n",
    "data.head()"
   ]
  },
  {
   "cell_type": "code",
   "execution_count": 2,
   "id": "66ac4be0",
   "metadata": {},
   "outputs": [],
   "source": [
    "data.drop(['id'],axis=1,inplace=True)"
   ]
  },
  {
   "cell_type": "code",
   "execution_count": 3,
   "id": "add999a0",
   "metadata": {},
   "outputs": [
    {
     "name": "stdout",
     "output_type": "stream",
     "text": [
      "<class 'pandas.core.frame.DataFrame'>\n",
      "RangeIndex: 381109 entries, 0 to 381108\n",
      "Data columns (total 11 columns):\n",
      " #   Column                Non-Null Count   Dtype  \n",
      "---  ------                --------------   -----  \n",
      " 0   Gender                381109 non-null  object \n",
      " 1   Age                   381109 non-null  int64  \n",
      " 2   Driving_License       381109 non-null  int64  \n",
      " 3   Region_Code           381109 non-null  float64\n",
      " 4   Previously_Insured    381109 non-null  int64  \n",
      " 5   Vehicle_Age           381109 non-null  object \n",
      " 6   Vehicle_Damage        381109 non-null  object \n",
      " 7   Annual_Premium        381109 non-null  float64\n",
      " 8   Policy_Sales_Channel  381109 non-null  float64\n",
      " 9   Vintage               381109 non-null  int64  \n",
      " 10  Response              381109 non-null  int64  \n",
      "dtypes: float64(3), int64(5), object(3)\n",
      "memory usage: 32.0+ MB\n"
     ]
    }
   ],
   "source": [
    "data.info()"
   ]
  },
  {
   "cell_type": "code",
   "execution_count": 4,
   "id": "347f976e",
   "metadata": {},
   "outputs": [
    {
     "data": {
      "text/html": [
       "<div>\n",
       "<style scoped>\n",
       "    .dataframe tbody tr th:only-of-type {\n",
       "        vertical-align: middle;\n",
       "    }\n",
       "\n",
       "    .dataframe tbody tr th {\n",
       "        vertical-align: top;\n",
       "    }\n",
       "\n",
       "    .dataframe thead th {\n",
       "        text-align: right;\n",
       "    }\n",
       "</style>\n",
       "<table border=\"1\" class=\"dataframe\">\n",
       "  <thead>\n",
       "    <tr style=\"text-align: right;\">\n",
       "      <th></th>\n",
       "      <th>Age</th>\n",
       "      <th>Driving_License</th>\n",
       "      <th>Region_Code</th>\n",
       "      <th>Previously_Insured</th>\n",
       "      <th>Annual_Premium</th>\n",
       "      <th>Policy_Sales_Channel</th>\n",
       "      <th>Vintage</th>\n",
       "      <th>Response</th>\n",
       "    </tr>\n",
       "  </thead>\n",
       "  <tbody>\n",
       "    <tr>\n",
       "      <th>count</th>\n",
       "      <td>381109.000000</td>\n",
       "      <td>381109.000000</td>\n",
       "      <td>381109.000000</td>\n",
       "      <td>381109.000000</td>\n",
       "      <td>381109.000000</td>\n",
       "      <td>381109.000000</td>\n",
       "      <td>381109.000000</td>\n",
       "      <td>381109.000000</td>\n",
       "    </tr>\n",
       "    <tr>\n",
       "      <th>mean</th>\n",
       "      <td>38.822584</td>\n",
       "      <td>0.997869</td>\n",
       "      <td>26.388807</td>\n",
       "      <td>0.458210</td>\n",
       "      <td>30564.389581</td>\n",
       "      <td>112.034295</td>\n",
       "      <td>154.347397</td>\n",
       "      <td>0.122563</td>\n",
       "    </tr>\n",
       "    <tr>\n",
       "      <th>std</th>\n",
       "      <td>15.511611</td>\n",
       "      <td>0.046110</td>\n",
       "      <td>13.229888</td>\n",
       "      <td>0.498251</td>\n",
       "      <td>17213.155057</td>\n",
       "      <td>54.203995</td>\n",
       "      <td>83.671304</td>\n",
       "      <td>0.327936</td>\n",
       "    </tr>\n",
       "    <tr>\n",
       "      <th>min</th>\n",
       "      <td>20.000000</td>\n",
       "      <td>0.000000</td>\n",
       "      <td>0.000000</td>\n",
       "      <td>0.000000</td>\n",
       "      <td>2630.000000</td>\n",
       "      <td>1.000000</td>\n",
       "      <td>10.000000</td>\n",
       "      <td>0.000000</td>\n",
       "    </tr>\n",
       "    <tr>\n",
       "      <th>25%</th>\n",
       "      <td>25.000000</td>\n",
       "      <td>1.000000</td>\n",
       "      <td>15.000000</td>\n",
       "      <td>0.000000</td>\n",
       "      <td>24405.000000</td>\n",
       "      <td>29.000000</td>\n",
       "      <td>82.000000</td>\n",
       "      <td>0.000000</td>\n",
       "    </tr>\n",
       "    <tr>\n",
       "      <th>50%</th>\n",
       "      <td>36.000000</td>\n",
       "      <td>1.000000</td>\n",
       "      <td>28.000000</td>\n",
       "      <td>0.000000</td>\n",
       "      <td>31669.000000</td>\n",
       "      <td>133.000000</td>\n",
       "      <td>154.000000</td>\n",
       "      <td>0.000000</td>\n",
       "    </tr>\n",
       "    <tr>\n",
       "      <th>75%</th>\n",
       "      <td>49.000000</td>\n",
       "      <td>1.000000</td>\n",
       "      <td>35.000000</td>\n",
       "      <td>1.000000</td>\n",
       "      <td>39400.000000</td>\n",
       "      <td>152.000000</td>\n",
       "      <td>227.000000</td>\n",
       "      <td>0.000000</td>\n",
       "    </tr>\n",
       "    <tr>\n",
       "      <th>max</th>\n",
       "      <td>85.000000</td>\n",
       "      <td>1.000000</td>\n",
       "      <td>52.000000</td>\n",
       "      <td>1.000000</td>\n",
       "      <td>540165.000000</td>\n",
       "      <td>163.000000</td>\n",
       "      <td>299.000000</td>\n",
       "      <td>1.000000</td>\n",
       "    </tr>\n",
       "  </tbody>\n",
       "</table>\n",
       "</div>"
      ],
      "text/plain": [
       "                 Age  Driving_License    Region_Code  Previously_Insured  \\\n",
       "count  381109.000000    381109.000000  381109.000000       381109.000000   \n",
       "mean       38.822584         0.997869      26.388807            0.458210   \n",
       "std        15.511611         0.046110      13.229888            0.498251   \n",
       "min        20.000000         0.000000       0.000000            0.000000   \n",
       "25%        25.000000         1.000000      15.000000            0.000000   \n",
       "50%        36.000000         1.000000      28.000000            0.000000   \n",
       "75%        49.000000         1.000000      35.000000            1.000000   \n",
       "max        85.000000         1.000000      52.000000            1.000000   \n",
       "\n",
       "       Annual_Premium  Policy_Sales_Channel        Vintage       Response  \n",
       "count   381109.000000         381109.000000  381109.000000  381109.000000  \n",
       "mean     30564.389581            112.034295     154.347397       0.122563  \n",
       "std      17213.155057             54.203995      83.671304       0.327936  \n",
       "min       2630.000000              1.000000      10.000000       0.000000  \n",
       "25%      24405.000000             29.000000      82.000000       0.000000  \n",
       "50%      31669.000000            133.000000     154.000000       0.000000  \n",
       "75%      39400.000000            152.000000     227.000000       0.000000  \n",
       "max     540165.000000            163.000000     299.000000       1.000000  "
      ]
     },
     "execution_count": 4,
     "metadata": {},
     "output_type": "execute_result"
    }
   ],
   "source": [
    "data.describe()"
   ]
  },
  {
   "cell_type": "code",
   "execution_count": 5,
   "id": "95a62e9c",
   "metadata": {},
   "outputs": [
    {
     "data": {
      "text/plain": [
       "<AxesSubplot:>"
      ]
     },
     "execution_count": 5,
     "metadata": {},
     "output_type": "execute_result"
    },
    {
     "data": {
      "image/png": "[encoded data removed]",
      "text/plain": [
       "<Figure size 432x288 with 1 Axes>"
      ]
     },
     "metadata": {
      "needs_background": "light"
     },
     "output_type": "display_data"
    }
   ],
   "source": [
    "#finding the missing value\n",
    "import seaborn as sns\n",
    "sns.heatmap(data.isnull(),cbar=False,cmap='viridis',yticklabels=False)"
   ]
  },
  {
   "cell_type": "markdown",
   "id": "f1bfe2cc",
   "metadata": {},
   "source": [
    "# exploratory data analysis"
   ]
  },
  {
   "cell_type": "code",
   "execution_count": 6,
   "id": "3f9b1dee",
   "metadata": {},
   "outputs": [
    {
     "data": {
      "text/plain": [
       "<AxesSubplot:xlabel='Response', ylabel='count'>"
      ]
     },
     "execution_count": 6,
     "metadata": {},
     "output_type": "execute_result"
    },
    {
     "data": {
      "image/png": "[encoded data removed]",
      "text/plain": [
       "<Figure size 432x288 with 1 Axes>"
      ]
     },
     "metadata": {},
     "output_type": "display_data"
    }
   ],
   "source": [
    "#plot\n",
    "sns.set_style('whitegrid')\n",
    "sns.countplot(x='Response',data=data)"
   ]
  },
  {
   "cell_type": "code",
   "execution_count": 7,
   "id": "551a0a2b",
   "metadata": {},
   "outputs": [
    {
     "data": {
      "text/plain": [
       "<AxesSubplot:xlabel='Vehicle_Age', ylabel='count'>"
      ]
     },
     "execution_count": 7,
     "metadata": {},
     "output_type": "execute_result"
    },
    {
     "data": {
      "image/png": "[encoded data removed]",
      "text/plain": [
       "<Figure size 432x288 with 1 Axes>"
      ]
     },
     "metadata": {},
     "output_type": "display_data"
    }
   ],
   "source": [
    "sns.set_style('whitegrid')\n",
    "sns.countplot(x='Vehicle_Age',hue='Response',data=data)"
   ]
  },
  {
   "cell_type": "code",
   "execution_count": 8,
   "id": "270feb0e",
   "metadata": {},
   "outputs": [
    {
     "data": {
      "text/plain": [
       "<AxesSubplot:xlabel='Age', ylabel='count'>"
      ]
     },
     "execution_count": 8,
     "metadata": {},
     "output_type": "execute_result"
    },
    {
     "data": {
      "image/png": "[encoded data removed]",
      "text/plain": [
       "<Figure size 432x288 with 1 Axes>"
      ]
     },
     "metadata": {},
     "output_type": "display_data"
    }
   ],
   "source": [
    "sns.set_style('whitegrid')\n",
    "sns.countplot(x='Age',hue='Response',data=data)"
   ]
  },
  {
   "cell_type": "code",
   "execution_count": 9,
   "id": "07e22748",
   "metadata": {},
   "outputs": [
    {
     "data": {
      "text/plain": [
       "<AxesSubplot:xlabel='Gender', ylabel='count'>"
      ]
     },
     "execution_count": 9,
     "metadata": {},
     "output_type": "execute_result"
    },
    {
     "data": {
      "image/png": "[encoded data removed]",
      "text/plain": [
       "<Figure size 432x288 with 1 Axes>"
      ]
     },
     "metadata": {},
     "output_type": "display_data"
    }
   ],
   "source": [
    "sns.set_style('whitegrid')\n",
    "sns.countplot(x='Gender',hue='Response',data=data)"
   ]
  },
  {
   "cell_type": "code",
   "execution_count": 10,
   "id": "8e4c5f67",
   "metadata": {},
   "outputs": [
    {
     "data": {
      "text/plain": [
       "<AxesSubplot:xlabel='Driving_License', ylabel='count'>"
      ]
     },
     "execution_count": 10,
     "metadata": {},
     "output_type": "execute_result"
    },
    {
     "data": {
      "image/png": "[encoded data removed]",
      "text/plain": [
       "<Figure size 432x288 with 1 Axes>"
      ]
     },
     "metadata": {},
     "output_type": "display_data"
    }
   ],
   "source": [
    "sns.set_style('whitegrid')\n",
    "sns.countplot(x='Driving_License',hue='Response',data=data)"
   ]
  },
  {
   "cell_type": "code",
   "execution_count": 11,
   "id": "bb70c453",
   "metadata": {},
   "outputs": [
    {
     "data": {
      "text/plain": [
       "<AxesSubplot:xlabel='Previously_Insured', ylabel='count'>"
      ]
     },
     "execution_count": 11,
     "metadata": {},
     "output_type": "execute_result"
    },
    {
     "data": {
      "image/png": "[encoded data removed]",
      "text/plain": [
       "<Figure size 432x288 with 1 Axes>"
      ]
     },
     "metadata": {},
     "output_type": "display_data"
    }
   ],
   "source": [
    "sns.set_style('whitegrid')\n",
    "sns.countplot(x='Previously_Insured',hue='Response',data=data)"
   ]
  },
  {
   "cell_type": "code",
   "execution_count": 12,
   "id": "bd7610b5",
   "metadata": {},
   "outputs": [
    {
     "data": {
      "text/plain": [
       "<AxesSubplot:xlabel='Vehicle_Damage', ylabel='count'>"
      ]
     },
     "execution_count": 12,
     "metadata": {},
     "output_type": "execute_result"
    },
    {
     "data": {
      "image/png": "[encoded data removed]",
      "text/plain": [
       "<Figure size 432x288 with 1 Axes>"
      ]
     },
     "metadata": {},
     "output_type": "display_data"
    }
   ],
   "source": [
    "sns.set_style('whitegrid')\n",
    "sns.countplot(x='Vehicle_Damage',hue='Response',data=data)"
   ]
  },
  {
   "cell_type": "code",
   "execution_count": 13,
   "id": "d8b71b0a",
   "metadata": {},
   "outputs": [
    {
     "data": {
      "text/plain": [
       "<seaborn.axisgrid.FacetGrid at 0x14d97c6bbb0>"
      ]
     },
     "execution_count": 13,
     "metadata": {},
     "output_type": "execute_result"
    },
    {
     "data": {
      "image/png": "[encoded data removed]",
      "text/plain": [
       "<Figure size 413.125x360 with 1 Axes>"
      ]
     },
     "metadata": {},
     "output_type": "display_data"
    }
   ],
   "source": [
    "sns.set_style('whitegrid')\n",
    "sns.catplot(x='Gender',y='Annual_Premium',hue='Response',data=data)"
   ]
  },
  {
   "cell_type": "code",
   "execution_count": 14,
   "id": "9430e315",
   "metadata": {},
   "outputs": [
    {
     "data": {
      "text/plain": [
       "<seaborn.axisgrid.FacetGrid at 0x14d97cc7d90>"
      ]
     },
     "execution_count": 14,
     "metadata": {},
     "output_type": "execute_result"
    },
    {
     "data": {
      "image/png": "[encoded data removed]",
      "text/plain": [
       "<Figure size 413.125x360 with 1 Axes>"
      ]
     },
     "metadata": {},
     "output_type": "display_data"
    }
   ],
   "source": [
    "sns.displot(x='Vintage',hue='Response',data=data)"
   ]
  },
  {
   "cell_type": "code",
   "execution_count": 15,
   "id": "9e0915ae",
   "metadata": {},
   "outputs": [],
   "source": [
    "data.drop(['Vintage'],axis=1,inplace=True)"
   ]
  },
  {
   "cell_type": "code",
   "execution_count": 16,
   "id": "3f0c60a6",
   "metadata": {},
   "outputs": [
    {
     "data": {
      "text/plain": [
       "<seaborn.axisgrid.FacetGrid at 0x14db16a1730>"
      ]
     },
     "execution_count": 16,
     "metadata": {},
     "output_type": "execute_result"
    },
    {
     "data": {
      "image/png": "[encoded data removed]",
      "text/plain": [
       "<Figure size 413.125x360 with 1 Axes>"
      ]
     },
     "metadata": {},
     "output_type": "display_data"
    }
   ],
   "source": [
    "sns.displot(x='Policy_Sales_Channel',hue='Response',data=data)"
   ]
  },
  {
   "cell_type": "code",
   "execution_count": 17,
   "id": "fa0918a0",
   "metadata": {},
   "outputs": [
    {
     "data": {
      "text/html": [
       "<div>\n",
       "<style scoped>\n",
       "    .dataframe tbody tr th:only-of-type {\n",
       "        vertical-align: middle;\n",
       "    }\n",
       "\n",
       "    .dataframe tbody tr th {\n",
       "        vertical-align: top;\n",
       "    }\n",
       "\n",
       "    .dataframe thead th {\n",
       "        text-align: right;\n",
       "    }\n",
       "</style>\n",
       "<table border=\"1\" class=\"dataframe\">\n",
       "  <thead>\n",
       "    <tr style=\"text-align: right;\">\n",
       "      <th></th>\n",
       "      <th>Gender</th>\n",
       "      <th>Age</th>\n",
       "      <th>Driving_License</th>\n",
       "      <th>Region_Code</th>\n",
       "      <th>Previously_Insured</th>\n",
       "      <th>Vehicle_Age</th>\n",
       "      <th>Vehicle_Damage</th>\n",
       "      <th>Annual_Premium</th>\n",
       "      <th>Policy_Sales_Channel</th>\n",
       "      <th>Response</th>\n",
       "    </tr>\n",
       "  </thead>\n",
       "  <tbody>\n",
       "    <tr>\n",
       "      <th>0</th>\n",
       "      <td>Male</td>\n",
       "      <td>44</td>\n",
       "      <td>1</td>\n",
       "      <td>28.0</td>\n",
       "      <td>0</td>\n",
       "      <td>&gt; 2 Years</td>\n",
       "      <td>Yes</td>\n",
       "      <td>40454.0</td>\n",
       "      <td>26.0</td>\n",
       "      <td>1</td>\n",
       "    </tr>\n",
       "    <tr>\n",
       "      <th>1</th>\n",
       "      <td>Male</td>\n",
       "      <td>76</td>\n",
       "      <td>1</td>\n",
       "      <td>3.0</td>\n",
       "      <td>0</td>\n",
       "      <td>1-2 Year</td>\n",
       "      <td>No</td>\n",
       "      <td>33536.0</td>\n",
       "      <td>26.0</td>\n",
       "      <td>0</td>\n",
       "    </tr>\n",
       "    <tr>\n",
       "      <th>2</th>\n",
       "      <td>Male</td>\n",
       "      <td>47</td>\n",
       "      <td>1</td>\n",
       "      <td>28.0</td>\n",
       "      <td>0</td>\n",
       "      <td>&gt; 2 Years</td>\n",
       "      <td>Yes</td>\n",
       "      <td>38294.0</td>\n",
       "      <td>26.0</td>\n",
       "      <td>1</td>\n",
       "    </tr>\n",
       "    <tr>\n",
       "      <th>3</th>\n",
       "      <td>Male</td>\n",
       "      <td>21</td>\n",
       "      <td>1</td>\n",
       "      <td>11.0</td>\n",
       "      <td>1</td>\n",
       "      <td>&lt; 1 Year</td>\n",
       "      <td>No</td>\n",
       "      <td>28619.0</td>\n",
       "      <td>152.0</td>\n",
       "      <td>0</td>\n",
       "    </tr>\n",
       "    <tr>\n",
       "      <th>4</th>\n",
       "      <td>Female</td>\n",
       "      <td>29</td>\n",
       "      <td>1</td>\n",
       "      <td>41.0</td>\n",
       "      <td>1</td>\n",
       "      <td>&lt; 1 Year</td>\n",
       "      <td>No</td>\n",
       "      <td>27496.0</td>\n",
       "      <td>152.0</td>\n",
       "      <td>0</td>\n",
       "    </tr>\n",
       "    <tr>\n",
       "      <th>...</th>\n",
       "      <td>...</td>\n",
       "      <td>...</td>\n",
       "      <td>...</td>\n",
       "      <td>...</td>\n",
       "      <td>...</td>\n",
       "      <td>...</td>\n",
       "      <td>...</td>\n",
       "      <td>...</td>\n",
       "      <td>...</td>\n",
       "      <td>...</td>\n",
       "    </tr>\n",
       "    <tr>\n",
       "      <th>95</th>\n",
       "      <td>Female</td>\n",
       "      <td>23</td>\n",
       "      <td>1</td>\n",
       "      <td>30.0</td>\n",
       "      <td>0</td>\n",
       "      <td>&lt; 1 Year</td>\n",
       "      <td>No</td>\n",
       "      <td>26689.0</td>\n",
       "      <td>152.0</td>\n",
       "      <td>0</td>\n",
       "    </tr>\n",
       "    <tr>\n",
       "      <th>96</th>\n",
       "      <td>Male</td>\n",
       "      <td>50</td>\n",
       "      <td>1</td>\n",
       "      <td>28.0</td>\n",
       "      <td>0</td>\n",
       "      <td>1-2 Year</td>\n",
       "      <td>Yes</td>\n",
       "      <td>46995.0</td>\n",
       "      <td>52.0</td>\n",
       "      <td>0</td>\n",
       "    </tr>\n",
       "    <tr>\n",
       "      <th>97</th>\n",
       "      <td>Female</td>\n",
       "      <td>62</td>\n",
       "      <td>1</td>\n",
       "      <td>28.0</td>\n",
       "      <td>0</td>\n",
       "      <td>&gt; 2 Years</td>\n",
       "      <td>Yes</td>\n",
       "      <td>41892.0</td>\n",
       "      <td>155.0</td>\n",
       "      <td>0</td>\n",
       "    </tr>\n",
       "    <tr>\n",
       "      <th>98</th>\n",
       "      <td>Female</td>\n",
       "      <td>21</td>\n",
       "      <td>1</td>\n",
       "      <td>2.0</td>\n",
       "      <td>0</td>\n",
       "      <td>&lt; 1 Year</td>\n",
       "      <td>Yes</td>\n",
       "      <td>34274.0</td>\n",
       "      <td>152.0</td>\n",
       "      <td>0</td>\n",
       "    </tr>\n",
       "    <tr>\n",
       "      <th>99</th>\n",
       "      <td>Female</td>\n",
       "      <td>24</td>\n",
       "      <td>1</td>\n",
       "      <td>7.0</td>\n",
       "      <td>1</td>\n",
       "      <td>&lt; 1 Year</td>\n",
       "      <td>Yes</td>\n",
       "      <td>2630.0</td>\n",
       "      <td>160.0</td>\n",
       "      <td>0</td>\n",
       "    </tr>\n",
       "  </tbody>\n",
       "</table>\n",
       "<p>100 rows × 10 columns</p>\n",
       "</div>"
      ],
      "text/plain": [
       "    Gender  Age  Driving_License  Region_Code  Previously_Insured Vehicle_Age  \\\n",
       "0     Male   44                1         28.0                   0   > 2 Years   \n",
       "1     Male   76                1          3.0                   0    1-2 Year   \n",
       "2     Male   47                1         28.0                   0   > 2 Years   \n",
       "3     Male   21                1         11.0                   1    < 1 Year   \n",
       "4   Female   29                1         41.0                   1    < 1 Year   \n",
       "..     ...  ...              ...          ...                 ...         ...   \n",
       "95  Female   23                1         30.0                   0    < 1 Year   \n",
       "96    Male   50                1         28.0                   0    1-2 Year   \n",
       "97  Female   62                1         28.0                   0   > 2 Years   \n",
       "98  Female   21                1          2.0                   0    < 1 Year   \n",
       "99  Female   24                1          7.0                   1    < 1 Year   \n",
       "\n",
       "   Vehicle_Damage  Annual_Premium  Policy_Sales_Channel  Response  \n",
       "0             Yes         40454.0                  26.0         1  \n",
       "1              No         33536.0                  26.0         0  \n",
       "2             Yes         38294.0                  26.0         1  \n",
       "3              No         28619.0                 152.0         0  \n",
       "4              No         27496.0                 152.0         0  \n",
       "..            ...             ...                   ...       ...  \n",
       "95             No         26689.0                 152.0         0  \n",
       "96            Yes         46995.0                  52.0         0  \n",
       "97            Yes         41892.0                 155.0         0  \n",
       "98            Yes         34274.0                 152.0         0  \n",
       "99            Yes          2630.0                 160.0         0  \n",
       "\n",
       "[100 rows x 10 columns]"
      ]
     },
     "execution_count": 17,
     "metadata": {},
     "output_type": "execute_result"
    }
   ],
   "source": [
    "data.head(100)"
   ]
  },
  {
   "cell_type": "code",
   "execution_count": 18,
   "id": "fb23ed0d",
   "metadata": {},
   "outputs": [
    {
     "data": {
      "text/html": [
       "<div>\n",
       "<style scoped>\n",
       "    .dataframe tbody tr th:only-of-type {\n",
       "        vertical-align: middle;\n",
       "    }\n",
       "\n",
       "    .dataframe tbody tr th {\n",
       "        vertical-align: top;\n",
       "    }\n",
       "\n",
       "    .dataframe thead th {\n",
       "        text-align: right;\n",
       "    }\n",
       "</style>\n",
       "<table border=\"1\" class=\"dataframe\">\n",
       "  <thead>\n",
       "    <tr style=\"text-align: right;\">\n",
       "      <th></th>\n",
       "      <th>Female</th>\n",
       "      <th>Male</th>\n",
       "    </tr>\n",
       "  </thead>\n",
       "  <tbody>\n",
       "    <tr>\n",
       "      <th>0</th>\n",
       "      <td>0</td>\n",
       "      <td>1</td>\n",
       "    </tr>\n",
       "    <tr>\n",
       "      <th>1</th>\n",
       "      <td>0</td>\n",
       "      <td>1</td>\n",
       "    </tr>\n",
       "    <tr>\n",
       "      <th>2</th>\n",
       "      <td>0</td>\n",
       "      <td>1</td>\n",
       "    </tr>\n",
       "    <tr>\n",
       "      <th>3</th>\n",
       "      <td>0</td>\n",
       "      <td>1</td>\n",
       "    </tr>\n",
       "    <tr>\n",
       "      <th>4</th>\n",
       "      <td>1</td>\n",
       "      <td>0</td>\n",
       "    </tr>\n",
       "  </tbody>\n",
       "</table>\n",
       "</div>"
      ],
      "text/plain": [
       "   Female  Male\n",
       "0       0     1\n",
       "1       0     1\n",
       "2       0     1\n",
       "3       0     1\n",
       "4       1     0"
      ]
     },
     "execution_count": 18,
     "metadata": {},
     "output_type": "execute_result"
    }
   ],
   "source": [
    "#convert the object into int type\n",
    "pd.get_dummies(data['Gender']).head()"
   ]
  },
  {
   "cell_type": "code",
   "execution_count": 19,
   "id": "e71a888c",
   "metadata": {},
   "outputs": [
    {
     "data": {
      "text/html": [
       "<div>\n",
       "<style scoped>\n",
       "    .dataframe tbody tr th:only-of-type {\n",
       "        vertical-align: middle;\n",
       "    }\n",
       "\n",
       "    .dataframe tbody tr th {\n",
       "        vertical-align: top;\n",
       "    }\n",
       "\n",
       "    .dataframe thead th {\n",
       "        text-align: right;\n",
       "    }\n",
       "</style>\n",
       "<table border=\"1\" class=\"dataframe\">\n",
       "  <thead>\n",
       "    <tr style=\"text-align: right;\">\n",
       "      <th></th>\n",
       "      <th>No</th>\n",
       "      <th>Yes</th>\n",
       "    </tr>\n",
       "  </thead>\n",
       "  <tbody>\n",
       "    <tr>\n",
       "      <th>0</th>\n",
       "      <td>0</td>\n",
       "      <td>1</td>\n",
       "    </tr>\n",
       "    <tr>\n",
       "      <th>1</th>\n",
       "      <td>1</td>\n",
       "      <td>0</td>\n",
       "    </tr>\n",
       "    <tr>\n",
       "      <th>2</th>\n",
       "      <td>0</td>\n",
       "      <td>1</td>\n",
       "    </tr>\n",
       "    <tr>\n",
       "      <th>3</th>\n",
       "      <td>1</td>\n",
       "      <td>0</td>\n",
       "    </tr>\n",
       "    <tr>\n",
       "      <th>4</th>\n",
       "      <td>1</td>\n",
       "      <td>0</td>\n",
       "    </tr>\n",
       "  </tbody>\n",
       "</table>\n",
       "</div>"
      ],
      "text/plain": [
       "   No  Yes\n",
       "0   0    1\n",
       "1   1    0\n",
       "2   0    1\n",
       "3   1    0\n",
       "4   1    0"
      ]
     },
     "execution_count": 19,
     "metadata": {},
     "output_type": "execute_result"
    }
   ],
   "source": [
    "pd.get_dummies(data['Vehicle_Damage']).head()"
   ]
  },
  {
   "cell_type": "code",
   "execution_count": 20,
   "id": "4f4cf2f7",
   "metadata": {},
   "outputs": [
    {
     "data": {
      "text/html": [
       "<div>\n",
       "<style scoped>\n",
       "    .dataframe tbody tr th:only-of-type {\n",
       "        vertical-align: middle;\n",
       "    }\n",
       "\n",
       "    .dataframe tbody tr th {\n",
       "        vertical-align: top;\n",
       "    }\n",
       "\n",
       "    .dataframe thead th {\n",
       "        text-align: right;\n",
       "    }\n",
       "</style>\n",
       "<table border=\"1\" class=\"dataframe\">\n",
       "  <thead>\n",
       "    <tr style=\"text-align: right;\">\n",
       "      <th></th>\n",
       "      <th>1-2 Year</th>\n",
       "      <th>&lt; 1 Year</th>\n",
       "      <th>&gt; 2 Years</th>\n",
       "    </tr>\n",
       "  </thead>\n",
       "  <tbody>\n",
       "    <tr>\n",
       "      <th>0</th>\n",
       "      <td>0</td>\n",
       "      <td>0</td>\n",
       "      <td>1</td>\n",
       "    </tr>\n",
       "    <tr>\n",
       "      <th>1</th>\n",
       "      <td>1</td>\n",
       "      <td>0</td>\n",
       "      <td>0</td>\n",
       "    </tr>\n",
       "    <tr>\n",
       "      <th>2</th>\n",
       "      <td>0</td>\n",
       "      <td>0</td>\n",
       "      <td>1</td>\n",
       "    </tr>\n",
       "    <tr>\n",
       "      <th>3</th>\n",
       "      <td>0</td>\n",
       "      <td>1</td>\n",
       "      <td>0</td>\n",
       "    </tr>\n",
       "    <tr>\n",
       "      <th>4</th>\n",
       "      <td>0</td>\n",
       "      <td>1</td>\n",
       "      <td>0</td>\n",
       "    </tr>\n",
       "  </tbody>\n",
       "</table>\n",
       "</div>"
      ],
      "text/plain": [
       "   1-2 Year  < 1 Year  > 2 Years\n",
       "0         0         0          1\n",
       "1         1         0          0\n",
       "2         0         0          1\n",
       "3         0         1          0\n",
       "4         0         1          0"
      ]
     },
     "execution_count": 20,
     "metadata": {},
     "output_type": "execute_result"
    }
   ],
   "source": [
    "pd.get_dummies(data['Vehicle_Age']).head()"
   ]
  },
  {
   "cell_type": "code",
   "execution_count": 21,
   "id": "02e73c3e",
   "metadata": {},
   "outputs": [],
   "source": [
    "Gender=pd.get_dummies(data['Gender'])"
   ]
  },
  {
   "cell_type": "code",
   "execution_count": 22,
   "id": "d062914c",
   "metadata": {},
   "outputs": [],
   "source": [
    "Vehicle_Age=pd.get_dummies(data['Vehicle_Age'])"
   ]
  },
  {
   "cell_type": "code",
   "execution_count": 23,
   "id": "cbdf91d6",
   "metadata": {},
   "outputs": [],
   "source": [
    "Vehicle_Damage=pd.get_dummies(data['Vehicle_Damage'])"
   ]
  },
  {
   "cell_type": "code",
   "execution_count": 24,
   "id": "4274d0e8",
   "metadata": {},
   "outputs": [],
   "source": [
    "data=pd.concat([data,Gender,Vehicle_Age,Vehicle_Damage],axis=1)"
   ]
  },
  {
   "cell_type": "code",
   "execution_count": 25,
   "id": "1c0849fe",
   "metadata": {},
   "outputs": [],
   "source": [
    "data.drop(['Gender','Vehicle_Age','Vehicle_Damage'],axis=1,inplace=True)"
   ]
  },
  {
   "cell_type": "code",
   "execution_count": 26,
   "id": "54e7e293",
   "metadata": {},
   "outputs": [],
   "source": [
    "for i in range(len(data['Region_Code'])):\n",
    "    if(i>=0 and i<10):\n",
    "        data['Region_Code']=data['Region_Code'].replace({i:0})\n",
    "    elif(i>=10 and i<20):\n",
    "        data['Region_Code']=data['Region_Code'].replace({i:1})\n",
    "    elif(i>=20 and i<30):\n",
    "        data['Region_Code']=data['Region_Code'].replace({i:2})\n",
    "    elif(i>=30 and i<40):\n",
    "        data['Region_Code']=data['Region_Code'].replace({i:3})\n",
    "    elif(i>=40 and i<=50):\n",
    "        data['Region_Code']=data['Region_Code'].replace({i:4})"
   ]
  },
  {
   "cell_type": "code",
   "execution_count": 27,
   "id": "8f0b5432",
   "metadata": {},
   "outputs": [],
   "source": [
    "for i in range(len(data['Policy_Sales_Channel'])):\n",
    "    if(i>=0 and i<30):\n",
    "        data['Policy_Sales_Channel']=data['Policy_Sales_Channel'].replace({i:0})\n",
    "    elif(i>=30 and i<60):\n",
    "        data['Policy_Sales_Channel']=data['Policy_Sales_Channel'].replace({i:1})\n",
    "    elif(i>=60 and i<120):\n",
    "        data['Policy_Sales_Channel']=data['Policy_Sales_Channel'].replace({i:2})\n",
    "    elif(i>=120 and i<150):\n",
    "        data['Policy_Sales_Channel']=data['Policy_Sales_Channel'].replace({i:3})\n",
    "    elif(i>=150 and i<=160):\n",
    "        data['Policy_Sales_Channel']=data['Policy_Sales_Channel'].replace({i:4})"
   ]
  },
  {
   "cell_type": "code",
   "execution_count": 28,
   "id": "a994adec",
   "metadata": {},
   "outputs": [
    {
     "data": {
      "text/html": [
       "<div>\n",
       "<style scoped>\n",
       "    .dataframe tbody tr th:only-of-type {\n",
       "        vertical-align: middle;\n",
       "    }\n",
       "\n",
       "    .dataframe tbody tr th {\n",
       "        vertical-align: top;\n",
       "    }\n",
       "\n",
       "    .dataframe thead th {\n",
       "        text-align: right;\n",
       "    }\n",
       "</style>\n",
       "<table border=\"1\" class=\"dataframe\">\n",
       "  <thead>\n",
       "    <tr style=\"text-align: right;\">\n",
       "      <th></th>\n",
       "      <th>Age</th>\n",
       "      <th>Driving_License</th>\n",
       "      <th>Region_Code</th>\n",
       "      <th>Previously_Insured</th>\n",
       "      <th>Annual_Premium</th>\n",
       "      <th>Policy_Sales_Channel</th>\n",
       "      <th>Response</th>\n",
       "      <th>Female</th>\n",
       "      <th>Male</th>\n",
       "      <th>1-2 Year</th>\n",
       "      <th>&lt; 1 Year</th>\n",
       "      <th>&gt; 2 Years</th>\n",
       "      <th>No</th>\n",
       "      <th>Yes</th>\n",
       "    </tr>\n",
       "  </thead>\n",
       "  <tbody>\n",
       "    <tr>\n",
       "      <th>0</th>\n",
       "      <td>44</td>\n",
       "      <td>1</td>\n",
       "      <td>2.0</td>\n",
       "      <td>0</td>\n",
       "      <td>40454.0</td>\n",
       "      <td>0.0</td>\n",
       "      <td>1</td>\n",
       "      <td>0</td>\n",
       "      <td>1</td>\n",
       "      <td>0</td>\n",
       "      <td>0</td>\n",
       "      <td>1</td>\n",
       "      <td>0</td>\n",
       "      <td>1</td>\n",
       "    </tr>\n",
       "    <tr>\n",
       "      <th>1</th>\n",
       "      <td>76</td>\n",
       "      <td>1</td>\n",
       "      <td>0.0</td>\n",
       "      <td>0</td>\n",
       "      <td>33536.0</td>\n",
       "      <td>0.0</td>\n",
       "      <td>0</td>\n",
       "      <td>0</td>\n",
       "      <td>1</td>\n",
       "      <td>1</td>\n",
       "      <td>0</td>\n",
       "      <td>0</td>\n",
       "      <td>1</td>\n",
       "      <td>0</td>\n",
       "    </tr>\n",
       "    <tr>\n",
       "      <th>2</th>\n",
       "      <td>47</td>\n",
       "      <td>1</td>\n",
       "      <td>2.0</td>\n",
       "      <td>0</td>\n",
       "      <td>38294.0</td>\n",
       "      <td>0.0</td>\n",
       "      <td>1</td>\n",
       "      <td>0</td>\n",
       "      <td>1</td>\n",
       "      <td>0</td>\n",
       "      <td>0</td>\n",
       "      <td>1</td>\n",
       "      <td>0</td>\n",
       "      <td>1</td>\n",
       "    </tr>\n",
       "    <tr>\n",
       "      <th>3</th>\n",
       "      <td>21</td>\n",
       "      <td>1</td>\n",
       "      <td>1.0</td>\n",
       "      <td>1</td>\n",
       "      <td>28619.0</td>\n",
       "      <td>4.0</td>\n",
       "      <td>0</td>\n",
       "      <td>0</td>\n",
       "      <td>1</td>\n",
       "      <td>0</td>\n",
       "      <td>1</td>\n",
       "      <td>0</td>\n",
       "      <td>1</td>\n",
       "      <td>0</td>\n",
       "    </tr>\n",
       "    <tr>\n",
       "      <th>4</th>\n",
       "      <td>29</td>\n",
       "      <td>1</td>\n",
       "      <td>4.0</td>\n",
       "      <td>1</td>\n",
       "      <td>27496.0</td>\n",
       "      <td>4.0</td>\n",
       "      <td>0</td>\n",
       "      <td>1</td>\n",
       "      <td>0</td>\n",
       "      <td>0</td>\n",
       "      <td>1</td>\n",
       "      <td>0</td>\n",
       "      <td>1</td>\n",
       "      <td>0</td>\n",
       "    </tr>\n",
       "    <tr>\n",
       "      <th>...</th>\n",
       "      <td>...</td>\n",
       "      <td>...</td>\n",
       "      <td>...</td>\n",
       "      <td>...</td>\n",
       "      <td>...</td>\n",
       "      <td>...</td>\n",
       "      <td>...</td>\n",
       "      <td>...</td>\n",
       "      <td>...</td>\n",
       "      <td>...</td>\n",
       "      <td>...</td>\n",
       "      <td>...</td>\n",
       "      <td>...</td>\n",
       "      <td>...</td>\n",
       "    </tr>\n",
       "    <tr>\n",
       "      <th>381104</th>\n",
       "      <td>74</td>\n",
       "      <td>1</td>\n",
       "      <td>2.0</td>\n",
       "      <td>1</td>\n",
       "      <td>30170.0</td>\n",
       "      <td>0.0</td>\n",
       "      <td>0</td>\n",
       "      <td>0</td>\n",
       "      <td>1</td>\n",
       "      <td>1</td>\n",
       "      <td>0</td>\n",
       "      <td>0</td>\n",
       "      <td>1</td>\n",
       "      <td>0</td>\n",
       "    </tr>\n",
       "    <tr>\n",
       "      <th>381105</th>\n",
       "      <td>30</td>\n",
       "      <td>1</td>\n",
       "      <td>3.0</td>\n",
       "      <td>1</td>\n",
       "      <td>40016.0</td>\n",
       "      <td>4.0</td>\n",
       "      <td>0</td>\n",
       "      <td>0</td>\n",
       "      <td>1</td>\n",
       "      <td>0</td>\n",
       "      <td>1</td>\n",
       "      <td>0</td>\n",
       "      <td>1</td>\n",
       "      <td>0</td>\n",
       "    </tr>\n",
       "    <tr>\n",
       "      <th>381106</th>\n",
       "      <td>21</td>\n",
       "      <td>1</td>\n",
       "      <td>3.0</td>\n",
       "      <td>1</td>\n",
       "      <td>35118.0</td>\n",
       "      <td>4.0</td>\n",
       "      <td>0</td>\n",
       "      <td>0</td>\n",
       "      <td>1</td>\n",
       "      <td>0</td>\n",
       "      <td>1</td>\n",
       "      <td>0</td>\n",
       "      <td>1</td>\n",
       "      <td>0</td>\n",
       "    </tr>\n",
       "    <tr>\n",
       "      <th>381107</th>\n",
       "      <td>68</td>\n",
       "      <td>1</td>\n",
       "      <td>1.0</td>\n",
       "      <td>0</td>\n",
       "      <td>44617.0</td>\n",
       "      <td>3.0</td>\n",
       "      <td>0</td>\n",
       "      <td>1</td>\n",
       "      <td>0</td>\n",
       "      <td>0</td>\n",
       "      <td>0</td>\n",
       "      <td>1</td>\n",
       "      <td>0</td>\n",
       "      <td>1</td>\n",
       "    </tr>\n",
       "    <tr>\n",
       "      <th>381108</th>\n",
       "      <td>46</td>\n",
       "      <td>1</td>\n",
       "      <td>2.0</td>\n",
       "      <td>0</td>\n",
       "      <td>41777.0</td>\n",
       "      <td>0.0</td>\n",
       "      <td>0</td>\n",
       "      <td>0</td>\n",
       "      <td>1</td>\n",
       "      <td>1</td>\n",
       "      <td>0</td>\n",
       "      <td>0</td>\n",
       "      <td>1</td>\n",
       "      <td>0</td>\n",
       "    </tr>\n",
       "  </tbody>\n",
       "</table>\n",
       "<p>381109 rows × 14 columns</p>\n",
       "</div>"
      ],
      "text/plain": [
       "        Age  Driving_License  Region_Code  Previously_Insured  Annual_Premium  \\\n",
       "0        44                1          2.0                   0         40454.0   \n",
       "1        76                1          0.0                   0         33536.0   \n",
       "2        47                1          2.0                   0         38294.0   \n",
       "3        21                1          1.0                   1         28619.0   \n",
       "4        29                1          4.0                   1         27496.0   \n",
       "...     ...              ...          ...                 ...             ...   \n",
       "381104   74                1          2.0                   1         30170.0   \n",
       "381105   30                1          3.0                   1         40016.0   \n",
       "381106   21                1          3.0                   1         35118.0   \n",
       "381107   68                1          1.0                   0         44617.0   \n",
       "381108   46                1          2.0                   0         41777.0   \n",
       "\n",
       "        Policy_Sales_Channel  Response  Female  Male  1-2 Year  < 1 Year  \\\n",
       "0                        0.0         1       0     1         0         0   \n",
       "1                        0.0         0       0     1         1         0   \n",
       "2                        0.0         1       0     1         0         0   \n",
       "3                        4.0         0       0     1         0         1   \n",
       "4                        4.0         0       1     0         0         1   \n",
       "...                      ...       ...     ...   ...       ...       ...   \n",
       "381104                   0.0         0       0     1         1         0   \n",
       "381105                   4.0         0       0     1         0         1   \n",
       "381106                   4.0         0       0     1         0         1   \n",
       "381107                   3.0         0       1     0         0         0   \n",
       "381108                   0.0         0       0     1         1         0   \n",
       "\n",
       "        > 2 Years  No  Yes  \n",
       "0               1   0    1  \n",
       "1               0   1    0  \n",
       "2               1   0    1  \n",
       "3               0   1    0  \n",
       "4               0   1    0  \n",
       "...           ...  ..  ...  \n",
       "381104          0   1    0  \n",
       "381105          0   1    0  \n",
       "381106          0   1    0  \n",
       "381107          1   0    1  \n",
       "381108          0   1    0  \n",
       "\n",
       "[381109 rows x 14 columns]"
      ]
     },
     "execution_count": 28,
     "metadata": {},
     "output_type": "execute_result"
    }
   ],
   "source": [
    "data"
   ]
  },
  {
   "cell_type": "code",
   "execution_count": 29,
   "id": "d7ccea82",
   "metadata": {},
   "outputs": [
    {
     "data": {
      "text/html": [
       "<div>\n",
       "<style scoped>\n",
       "    .dataframe tbody tr th:only-of-type {\n",
       "        vertical-align: middle;\n",
       "    }\n",
       "\n",
       "    .dataframe tbody tr th {\n",
       "        vertical-align: top;\n",
       "    }\n",
       "\n",
       "    .dataframe thead th {\n",
       "        text-align: right;\n",
       "    }\n",
       "</style>\n",
       "<table border=\"1\" class=\"dataframe\">\n",
       "  <thead>\n",
       "    <tr style=\"text-align: right;\">\n",
       "      <th></th>\n",
       "      <th>Age</th>\n",
       "      <th>Driving_License</th>\n",
       "      <th>Region_Code</th>\n",
       "      <th>Previously_Insured</th>\n",
       "      <th>Annual_Premium</th>\n",
       "      <th>Policy_Sales_Channel</th>\n",
       "      <th>Response</th>\n",
       "      <th>Female</th>\n",
       "      <th>Male</th>\n",
       "      <th>1-2 Year</th>\n",
       "      <th>&lt; 1 Year</th>\n",
       "      <th>&gt; 2 Years</th>\n",
       "      <th>No</th>\n",
       "      <th>Yes</th>\n",
       "    </tr>\n",
       "  </thead>\n",
       "  <tbody>\n",
       "    <tr>\n",
       "      <th>Age</th>\n",
       "      <td>1.000000</td>\n",
       "      <td>-0.079782</td>\n",
       "      <td>0.010547</td>\n",
       "      <td>-0.254682</td>\n",
       "      <td>0.067507</td>\n",
       "      <td>-0.077938</td>\n",
       "      <td>0.111147</td>\n",
       "      <td>-0.145545</td>\n",
       "      <td>0.145545</td>\n",
       "      <td>0.692910</td>\n",
       "      <td>-0.787775</td>\n",
       "      <td>0.220694</td>\n",
       "      <td>-0.267534</td>\n",
       "      <td>0.267534</td>\n",
       "    </tr>\n",
       "    <tr>\n",
       "      <th>Driving_License</th>\n",
       "      <td>-0.079782</td>\n",
       "      <td>1.000000</td>\n",
       "      <td>0.002139</td>\n",
       "      <td>0.014969</td>\n",
       "      <td>-0.011906</td>\n",
       "      <td>0.007914</td>\n",
       "      <td>0.010155</td>\n",
       "      <td>0.018374</td>\n",
       "      <td>-0.018374</td>\n",
       "      <td>-0.037403</td>\n",
       "      <td>0.040215</td>\n",
       "      <td>-0.006211</td>\n",
       "      <td>0.016622</td>\n",
       "      <td>-0.016622</td>\n",
       "    </tr>\n",
       "    <tr>\n",
       "      <th>Region_Code</th>\n",
       "      <td>0.010547</td>\n",
       "      <td>0.002139</td>\n",
       "      <td>1.000000</td>\n",
       "      <td>-0.001183</td>\n",
       "      <td>-0.038598</td>\n",
       "      <td>0.002890</td>\n",
       "      <td>-0.000054</td>\n",
       "      <td>-0.002997</td>\n",
       "      <td>0.002997</td>\n",
       "      <td>0.008559</td>\n",
       "      <td>-0.008977</td>\n",
       "      <td>0.000864</td>\n",
       "      <td>-0.002325</td>\n",
       "      <td>0.002325</td>\n",
       "    </tr>\n",
       "    <tr>\n",
       "      <th>Previously_Insured</th>\n",
       "      <td>-0.254682</td>\n",
       "      <td>0.014969</td>\n",
       "      <td>-0.001183</td>\n",
       "      <td>1.000000</td>\n",
       "      <td>0.004269</td>\n",
       "      <td>-0.029819</td>\n",
       "      <td>-0.341170</td>\n",
       "      <td>0.081932</td>\n",
       "      <td>-0.081932</td>\n",
       "      <td>-0.279077</td>\n",
       "      <td>0.358773</td>\n",
       "      <td>-0.191352</td>\n",
       "      <td>0.824143</td>\n",
       "      <td>-0.824143</td>\n",
       "    </tr>\n",
       "    <tr>\n",
       "      <th>Annual_Premium</th>\n",
       "      <td>0.067507</td>\n",
       "      <td>-0.011906</td>\n",
       "      <td>-0.038598</td>\n",
       "      <td>0.004269</td>\n",
       "      <td>1.000000</td>\n",
       "      <td>-0.042884</td>\n",
       "      <td>0.022575</td>\n",
       "      <td>-0.003673</td>\n",
       "      <td>0.003673</td>\n",
       "      <td>-0.002495</td>\n",
       "      <td>-0.022555</td>\n",
       "      <td>0.061918</td>\n",
       "      <td>-0.009349</td>\n",
       "      <td>0.009349</td>\n",
       "    </tr>\n",
       "    <tr>\n",
       "      <th>Policy_Sales_Channel</th>\n",
       "      <td>-0.077938</td>\n",
       "      <td>0.007914</td>\n",
       "      <td>0.002890</td>\n",
       "      <td>-0.029819</td>\n",
       "      <td>-0.042884</td>\n",
       "      <td>1.000000</td>\n",
       "      <td>0.030323</td>\n",
       "      <td>-0.012221</td>\n",
       "      <td>0.012221</td>\n",
       "      <td>-0.034286</td>\n",
       "      <td>0.042876</td>\n",
       "      <td>-0.020541</td>\n",
       "      <td>-0.037777</td>\n",
       "      <td>0.037777</td>\n",
       "    </tr>\n",
       "    <tr>\n",
       "      <th>Response</th>\n",
       "      <td>0.111147</td>\n",
       "      <td>0.010155</td>\n",
       "      <td>-0.000054</td>\n",
       "      <td>-0.341170</td>\n",
       "      <td>0.022575</td>\n",
       "      <td>0.030323</td>\n",
       "      <td>1.000000</td>\n",
       "      <td>-0.052440</td>\n",
       "      <td>0.052440</td>\n",
       "      <td>0.164317</td>\n",
       "      <td>-0.209878</td>\n",
       "      <td>0.109300</td>\n",
       "      <td>-0.354400</td>\n",
       "      <td>0.354400</td>\n",
       "    </tr>\n",
       "    <tr>\n",
       "      <th>Female</th>\n",
       "      <td>-0.145545</td>\n",
       "      <td>0.018374</td>\n",
       "      <td>-0.002997</td>\n",
       "      <td>0.081932</td>\n",
       "      <td>-0.003673</td>\n",
       "      <td>-0.012221</td>\n",
       "      <td>-0.052440</td>\n",
       "      <td>1.000000</td>\n",
       "      <td>-1.000000</td>\n",
       "      <td>-0.147633</td>\n",
       "      <td>0.166280</td>\n",
       "      <td>-0.043155</td>\n",
       "      <td>0.091606</td>\n",
       "      <td>-0.091606</td>\n",
       "    </tr>\n",
       "    <tr>\n",
       "      <th>Male</th>\n",
       "      <td>0.145545</td>\n",
       "      <td>-0.018374</td>\n",
       "      <td>0.002997</td>\n",
       "      <td>-0.081932</td>\n",
       "      <td>0.003673</td>\n",
       "      <td>0.012221</td>\n",
       "      <td>0.052440</td>\n",
       "      <td>-1.000000</td>\n",
       "      <td>1.000000</td>\n",
       "      <td>0.147633</td>\n",
       "      <td>-0.166280</td>\n",
       "      <td>0.043155</td>\n",
       "      <td>-0.091606</td>\n",
       "      <td>0.091606</td>\n",
       "    </tr>\n",
       "    <tr>\n",
       "      <th>1-2 Year</th>\n",
       "      <td>0.692910</td>\n",
       "      <td>-0.037403</td>\n",
       "      <td>0.008559</td>\n",
       "      <td>-0.279077</td>\n",
       "      <td>-0.002495</td>\n",
       "      <td>-0.034286</td>\n",
       "      <td>0.164317</td>\n",
       "      <td>-0.147633</td>\n",
       "      <td>0.147633</td>\n",
       "      <td>1.000000</td>\n",
       "      <td>-0.918704</td>\n",
       "      <td>-0.220402</td>\n",
       "      <td>-0.284717</td>\n",
       "      <td>0.284717</td>\n",
       "    </tr>\n",
       "    <tr>\n",
       "      <th>&lt; 1 Year</th>\n",
       "      <td>-0.787775</td>\n",
       "      <td>0.040215</td>\n",
       "      <td>-0.008977</td>\n",
       "      <td>0.358773</td>\n",
       "      <td>-0.022555</td>\n",
       "      <td>0.042876</td>\n",
       "      <td>-0.209878</td>\n",
       "      <td>0.166280</td>\n",
       "      <td>-0.166280</td>\n",
       "      <td>-0.918704</td>\n",
       "      <td>1.000000</td>\n",
       "      <td>-0.182750</td>\n",
       "      <td>0.370778</td>\n",
       "      <td>-0.370778</td>\n",
       "    </tr>\n",
       "    <tr>\n",
       "      <th>&gt; 2 Years</th>\n",
       "      <td>0.220694</td>\n",
       "      <td>-0.006211</td>\n",
       "      <td>0.000864</td>\n",
       "      <td>-0.191352</td>\n",
       "      <td>0.061918</td>\n",
       "      <td>-0.020541</td>\n",
       "      <td>0.109300</td>\n",
       "      <td>-0.043155</td>\n",
       "      <td>0.043155</td>\n",
       "      <td>-0.220402</td>\n",
       "      <td>-0.182750</td>\n",
       "      <td>1.000000</td>\n",
       "      <td>-0.206961</td>\n",
       "      <td>0.206961</td>\n",
       "    </tr>\n",
       "    <tr>\n",
       "      <th>No</th>\n",
       "      <td>-0.267534</td>\n",
       "      <td>0.016622</td>\n",
       "      <td>-0.002325</td>\n",
       "      <td>0.824143</td>\n",
       "      <td>-0.009349</td>\n",
       "      <td>-0.037777</td>\n",
       "      <td>-0.354400</td>\n",
       "      <td>0.091606</td>\n",
       "      <td>-0.091606</td>\n",
       "      <td>-0.284717</td>\n",
       "      <td>0.370778</td>\n",
       "      <td>-0.206961</td>\n",
       "      <td>1.000000</td>\n",
       "      <td>-1.000000</td>\n",
       "    </tr>\n",
       "    <tr>\n",
       "      <th>Yes</th>\n",
       "      <td>0.267534</td>\n",
       "      <td>-0.016622</td>\n",
       "      <td>0.002325</td>\n",
       "      <td>-0.824143</td>\n",
       "      <td>0.009349</td>\n",
       "      <td>0.037777</td>\n",
       "      <td>0.354400</td>\n",
       "      <td>-0.091606</td>\n",
       "      <td>0.091606</td>\n",
       "      <td>0.284717</td>\n",
       "      <td>-0.370778</td>\n",
       "      <td>0.206961</td>\n",
       "      <td>-1.000000</td>\n",
       "      <td>1.000000</td>\n",
       "    </tr>\n",
       "  </tbody>\n",
       "</table>\n",
       "</div>"
      ],
      "text/plain": [
       "                           Age  Driving_License  Region_Code  \\\n",
       "Age                   1.000000        -0.079782     0.010547   \n",
       "Driving_License      -0.079782         1.000000     0.002139   \n",
       "Region_Code           0.010547         0.002139     1.000000   \n",
       "Previously_Insured   -0.254682         0.014969    -0.001183   \n",
       "Annual_Premium        0.067507        -0.011906    -0.038598   \n",
       "Policy_Sales_Channel -0.077938         0.007914     0.002890   \n",
       "Response              0.111147         0.010155    -0.000054   \n",
       "Female               -0.145545         0.018374    -0.002997   \n",
       "Male                  0.145545        -0.018374     0.002997   \n",
       "1-2 Year              0.692910        -0.037403     0.008559   \n",
       "< 1 Year             -0.787775         0.040215    -0.008977   \n",
       "> 2 Years             0.220694        -0.006211     0.000864   \n",
       "No                   -0.267534         0.016622    -0.002325   \n",
       "Yes                   0.267534        -0.016622     0.002325   \n",
       "\n",
       "                      Previously_Insured  Annual_Premium  \\\n",
       "Age                            -0.254682        0.067507   \n",
       "Driving_License                 0.014969       -0.011906   \n",
       "Region_Code                    -0.001183       -0.038598   \n",
       "Previously_Insured              1.000000        0.004269   \n",
       "Annual_Premium                  0.004269        1.000000   \n",
       "Policy_Sales_Channel           -0.029819       -0.042884   \n",
       "Response                       -0.341170        0.022575   \n",
       "Female                          0.081932       -0.003673   \n",
       "Male                           -0.081932        0.003673   \n",
       "1-2 Year                       -0.279077       -0.002495   \n",
       "< 1 Year                        0.358773       -0.022555   \n",
       "> 2 Years                      -0.191352        0.061918   \n",
       "No                              0.824143       -0.009349   \n",
       "Yes                            -0.824143        0.009349   \n",
       "\n",
       "                      Policy_Sales_Channel  Response    Female      Male  \\\n",
       "Age                              -0.077938  0.111147 -0.145545  0.145545   \n",
       "Driving_License                   0.007914  0.010155  0.018374 -0.018374   \n",
       "Region_Code                       0.002890 -0.000054 -0.002997  0.002997   \n",
       "Previously_Insured               -0.029819 -0.341170  0.081932 -0.081932   \n",
       "Annual_Premium                   -0.042884  0.022575 -0.003673  0.003673   \n",
       "Policy_Sales_Channel              1.000000  0.030323 -0.012221  0.012221   \n",
       "Response                          0.030323  1.000000 -0.052440  0.052440   \n",
       "Female                           -0.012221 -0.052440  1.000000 -1.000000   \n",
       "Male                              0.012221  0.052440 -1.000000  1.000000   \n",
       "1-2 Year                         -0.034286  0.164317 -0.147633  0.147633   \n",
       "< 1 Year                          0.042876 -0.209878  0.166280 -0.166280   \n",
       "> 2 Years                        -0.020541  0.109300 -0.043155  0.043155   \n",
       "No                               -0.037777 -0.354400  0.091606 -0.091606   \n",
       "Yes                               0.037777  0.354400 -0.091606  0.091606   \n",
       "\n",
       "                      1-2 Year  < 1 Year  > 2 Years        No       Yes  \n",
       "Age                   0.692910 -0.787775   0.220694 -0.267534  0.267534  \n",
       "Driving_License      -0.037403  0.040215  -0.006211  0.016622 -0.016622  \n",
       "Region_Code           0.008559 -0.008977   0.000864 -0.002325  0.002325  \n",
       "Previously_Insured   -0.279077  0.358773  -0.191352  0.824143 -0.824143  \n",
       "Annual_Premium       -0.002495 -0.022555   0.061918 -0.009349  0.009349  \n",
       "Policy_Sales_Channel -0.034286  0.042876  -0.020541 -0.037777  0.037777  \n",
       "Response              0.164317 -0.209878   0.109300 -0.354400  0.354400  \n",
       "Female               -0.147633  0.166280  -0.043155  0.091606 -0.091606  \n",
       "Male                  0.147633 -0.166280   0.043155 -0.091606  0.091606  \n",
       "1-2 Year              1.000000 -0.918704  -0.220402 -0.284717  0.284717  \n",
       "< 1 Year             -0.918704  1.000000  -0.182750  0.370778 -0.370778  \n",
       "> 2 Years            -0.220402 -0.182750   1.000000 -0.206961  0.206961  \n",
       "No                   -0.284717  0.370778  -0.206961  1.000000 -1.000000  \n",
       "Yes                   0.284717 -0.370778   0.206961 -1.000000  1.000000  "
      ]
     },
     "execution_count": 29,
     "metadata": {},
     "output_type": "execute_result"
    }
   ],
   "source": [
    "data.corr()"
   ]
  },
  {
   "cell_type": "code",
   "execution_count": 30,
   "id": "f704bb2f",
   "metadata": {},
   "outputs": [
    {
     "data": {
      "text/plain": [
       "<AxesSubplot:>"
      ]
     },
     "execution_count": 30,
     "metadata": {},
     "output_type": "execute_result"
    },
    {
     "data": {
      "image/png": "[encoded data removed]",
      "text/plain": [
       "<Figure size 432x288 with 2 Axes>"
      ]
     },
     "metadata": {},
     "output_type": "display_data"
    }
   ],
   "source": [
    "sns.heatmap(data.corr())"
   ]
  },
  {
   "cell_type": "code",
   "execution_count": 31,
   "id": "84774e45",
   "metadata": {
    "scrolled": true
   },
   "outputs": [
    {
     "data": {
      "text/plain": [
       "0    1\n",
       "1    0\n",
       "2    1\n",
       "3    0\n",
       "4    0\n",
       "Name: Response, dtype: int64"
      ]
     },
     "execution_count": 31,
     "metadata": {},
     "output_type": "execute_result"
    }
   ],
   "source": [
    "data.drop('Response',axis=1).head()\n",
    "data['Response'].head()"
   ]
  },
  {
   "cell_type": "markdown",
   "id": "7950a0f6",
   "metadata": {},
   "source": [
    "# model prediction"
   ]
  },
  {
   "cell_type": "code",
   "execution_count": 32,
   "id": "d6a1f2c4",
   "metadata": {},
   "outputs": [],
   "source": [
    "#Split the data set into training data and test data\n",
    "from sklearn.model_selection import train_test_split\n",
    "X_train, X_test, y_train, y_test = train_test_split(data.drop('Response',axis=1),data['Response'], test_size = 0.3)\n",
    "\n",
    " "
   ]
  },
  {
   "cell_type": "code",
   "execution_count": 33,
   "id": "730749db",
   "metadata": {},
   "outputs": [],
   "source": [
    "#Create the model\n",
    "from sklearn.linear_model import LogisticRegression\n",
    "LR=LogisticRegression()"
   ]
  },
  {
   "cell_type": "code",
   "execution_count": 34,
   "id": "7cc62f25",
   "metadata": {},
   "outputs": [
    {
     "name": "stderr",
     "output_type": "stream",
     "text": [
      "C:\\Users\\kumar\\anaconda3\\lib\\site-packages\\sklearn\\linear_model\\_logistic.py:763: ConvergenceWarning: lbfgs failed to converge (status=1):\n",
      "STOP: TOTAL NO. of ITERATIONS REACHED LIMIT.\n",
      "\n",
      "Increase the number of iterations (max_iter) or scale the data as shown in:\n",
      "    https://scikit-learn.org/stable/modules/preprocessing.html\n",
      "Please also refer to the documentation for alternative solver options:\n",
      "    https://scikit-learn.org/stable/modules/linear_model.html#logistic-regression\n",
      "  n_iter_i = _check_optimize_result(\n"
     ]
    }
   ],
   "source": [
    "#Train the model and create predictions\n",
    "LR=LR.fit(X_train, y_train)\n",
    "predictions= LR.predict(X_test)\n",
    "# predict probabilities\n",
    "pred_prob= LR.predict_proba(X_test)"
   ]
  },
  {
   "cell_type": "code",
   "execution_count": 35,
   "id": "804d5b17",
   "metadata": {},
   "outputs": [],
   "source": [
    "# roc curve for models\n",
    "from sklearn.metrics import roc_curve\n",
    "fpr, tpr, thresh = roc_curve(y_test, pred_prob[:,1], pos_label=1)\n",
    "# roc curve for tpr = fpr \n",
    "random_probs = [0 for i in range(len(y_test))]\n",
    "p_fpr, p_tpr, _ = roc_curve(y_test, random_probs, pos_label=1)"
   ]
  },
  {
   "cell_type": "code",
   "execution_count": 36,
   "id": "fea80a21",
   "metadata": {},
   "outputs": [
    {
     "name": "stdout",
     "output_type": "stream",
     "text": [
      "0.8293309046388437\n"
     ]
    }
   ],
   "source": [
    "#auc score\n",
    "from sklearn.metrics import roc_auc_score\n",
    "auc_score = roc_auc_score(y_test, pred_prob[:,1])\n",
    "print(auc_score)"
   ]
  },
  {
   "cell_type": "code",
   "execution_count": 37,
   "id": "7e12bb41",
   "metadata": {},
   "outputs": [
    {
     "data": {
      "image/png": "[encoded data removed]",
      "text/plain": [
       "<Figure size 576x396 with 1 Axes>"
      ]
     },
     "metadata": {},
     "output_type": "display_data"
    }
   ],
   "source": [
    "# plot roc curves\n",
    "import matplotlib.pyplot as plt\n",
    "plt.style.use('seaborn')\n",
    "plt.plot(fpr, tpr, linestyle='dashed',color='orange', label='Logistic Regression')\n",
    "plt.plot(p_fpr, p_tpr, linestyle='dotted', color='blue')\n",
    "# title\n",
    "plt.title('ROC curve')\n",
    "#  label x and y axis\n",
    "plt.xlabel('False Positive Rate')\n",
    "plt.ylabel('True Positive rate')\n",
    "plt.show();"
   ]
  },
  {
   "cell_type": "code",
   "execution_count": 38,
   "id": "33fef22e",
   "metadata": {},
   "outputs": [
    {
     "name": "stdout",
     "output_type": "stream",
     "text": [
      "              precision    recall  f1-score   support\n",
      "\n",
      "           0       0.88      1.00      0.93    100251\n",
      "           1       0.31      0.00      0.00     14082\n",
      "\n",
      "    accuracy                           0.88    114333\n",
      "   macro avg       0.59      0.50      0.47    114333\n",
      "weighted avg       0.81      0.88      0.82    114333\n",
      "\n"
     ]
    }
   ],
   "source": [
    "#performance metrics\n",
    "from sklearn.metrics import classification_report\n",
    "print(classification_report(y_test, predictions))"
   ]
  },
  {
   "cell_type": "code",
   "execution_count": 39,
   "id": "83fb0814",
   "metadata": {},
   "outputs": [],
   "source": [
    "#Generate a confusion matrix\n",
    "from sklearn.metrics import confusion_matrix\n",
    "accutracy=confusion_matrix(y_test,predictions)"
   ]
  },
  {
   "cell_type": "code",
   "execution_count": 40,
   "id": "cab1b0e8",
   "metadata": {},
   "outputs": [
    {
     "data": {
      "text/plain": [
       "array([[100183,     68],\n",
       "       [ 14052,     30]], dtype=int64)"
      ]
     },
     "execution_count": 40,
     "metadata": {},
     "output_type": "execute_result"
    }
   ],
   "source": [
    "accuracy=confusion_matrix(y_test,predictions)\n",
    "accuracy"
   ]
  },
  {
   "cell_type": "code",
   "execution_count": 41,
   "id": "fdd71ab3",
   "metadata": {},
   "outputs": [],
   "source": [
    "from sklearn.metrics import accuracy_score"
   ]
  },
  {
   "cell_type": "code",
   "execution_count": 42,
   "id": "873ed9fc",
   "metadata": {},
   "outputs": [
    {
     "data": {
      "text/plain": [
       "0.8765010976708387"
      ]
     },
     "execution_count": 42,
     "metadata": {},
     "output_type": "execute_result"
    }
   ],
   "source": [
    "accuracy=accuracy_score(y_test,predictions)\n",
    "accuracy"
   ]
  },
  {
   "cell_type": "markdown",
   "id": "a101b794",
   "metadata": {},
   "source": [
    "# Decision tree classifier"
   ]
  },
  {
   "cell_type": "code",
   "execution_count": 43,
   "id": "cb104fba",
   "metadata": {},
   "outputs": [],
   "source": [
    "from sklearn.tree import DecisionTreeClassifier"
   ]
  },
  {
   "cell_type": "code",
   "execution_count": 44,
   "id": "8046810b",
   "metadata": {},
   "outputs": [],
   "source": [
    "DTC=DecisionTreeClassifier(criterion='gini',max_features=10,max_depth=5)"
   ]
  },
  {
   "cell_type": "code",
   "execution_count": 45,
   "id": "7126b920",
   "metadata": {},
   "outputs": [],
   "source": [
    "DTC=DTC.fit(X_train,y_train)"
   ]
  },
  {
   "cell_type": "code",
   "execution_count": 46,
   "id": "0ab89424",
   "metadata": {},
   "outputs": [],
   "source": [
    "pred=DTC.predict(X_test)"
   ]
  },
  {
   "cell_type": "code",
   "execution_count": 47,
   "id": "da8e4447",
   "metadata": {},
   "outputs": [
    {
     "data": {
      "text/plain": [
       "0.8768334601558605"
      ]
     },
     "execution_count": 47,
     "metadata": {},
     "output_type": "execute_result"
    }
   ],
   "source": [
    "accuracy=accuracy_score(y_test,pred)\n",
    "accuracy"
   ]
  },
  {
   "cell_type": "code",
   "execution_count": 48,
   "id": "b9459ce5",
   "metadata": {},
   "outputs": [],
   "source": [
    "prob=DTC.predict_proba(X_test)"
   ]
  },
  {
   "cell_type": "code",
   "execution_count": 49,
   "id": "b45d4ec4",
   "metadata": {},
   "outputs": [],
   "source": [
    "# roc curve for models\n",
    "fpr3, tpr3, thresh3 = roc_curve(y_test, prob[:,1], pos_label=1)\n"
   ]
  },
  {
   "cell_type": "code",
   "execution_count": 50,
   "id": "c8175a18",
   "metadata": {},
   "outputs": [
    {
     "name": "stdout",
     "output_type": "stream",
     "text": [
      "0.8382464119590434\n"
     ]
    }
   ],
   "source": [
    "auc_score3= roc_auc_score(y_test, prob[:,1])\n",
    "\n",
    "print(auc_score3)"
   ]
  }
 ],
 "metadata": {
  "kernelspec": {
   "display_name": "Python 3 (ipykernel)",
   "language": "python",
   "name": "python3"
  },
  "language_info": {
   "codemirror_mode": {
    "name": "ipython",
    "version": 3
   },
   "file_extension": ".py",
   "mimetype": "text/x-python",
   "name": "python",
   "nbconvert_exporter": "python",
   "pygments_lexer": "ipython3",
   "version": "3.9.7"
  }
 },
 "nbformat": 4,
 "nbformat_minor": 5
}
